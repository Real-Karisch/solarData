{
 "metadata": {
  "language_info": {
   "codemirror_mode": {
    "name": "ipython",
    "version": 3
   },
   "file_extension": ".py",
   "mimetype": "text/x-python",
   "name": "python",
   "nbconvert_exporter": "python",
   "pygments_lexer": "ipython3",
   "version": "3.7.6-final"
  },
  "orig_nbformat": 2,
  "kernelspec": {
   "name": "Python 3.7.6 64-bit ('base': conda)",
   "display_name": "Python 3.7.6 64-bit ('base': conda)",
   "metadata": {
    "interpreter": {
     "hash": "e7ad3e331d89125a35e1aa51e4cbfadb7339476d992231fff57158d187b2117c"
    }
   }
  }
 },
 "nbformat": 4,
 "nbformat_minor": 2,
 "cells": [
  {
   "cell_type": "code",
   "execution_count": 1,
   "metadata": {},
   "outputs": [],
   "source": [
    "import pandas as pd\n",
    "import numpy as np\n",
    "import re\n",
    "from supportingFunctions import *\n",
    "import os\n",
    "import sys"
   ]
  },
  {
   "cell_type": "code",
   "execution_count": 2,
   "metadata": {},
   "outputs": [],
   "source": [
    "pgeRaw = pd.read_csv('./../data/PGE_Interconnected_Applications_Dataset_2020-06-30.csv')\n",
    "sceRaw = pd.read_csv('./../data/SCE_Interconnected_Applications_Dataset_2020-06-30.csv')\n",
    "sdgeRaw = pd.read_csv('./../data/SDGE_Interconnected_Applications_Dataset_2020-06-30.csv')"
   ]
  },
  {
   "cell_type": "code",
   "execution_count": 3,
   "metadata": {
    "tags": []
   },
   "outputs": [],
   "source": [
    "cols = ['Technology Type','System Size DC','Storage Size (kW AC)','App Approved Date','Customer Sector','Installer Name','Inverter Manufacturer 1','Third Party Owned','Third Party Name']\n",
    "colsShort = ['techType','systemSizeDC','storageSize','appDate','sector','installer','invMan','thirdPartyBool','thirdParty']\n",
    "\n",
    "allData = pd.concat([pgeRaw[cols], sceRaw[cols], sdgeRaw[cols]])\n",
    "\n",
    "allData.columns = colsShort\n",
    "\n",
    "allData = allData[allData['techType'].notna()]\n",
    "allData = allData[allData['invMan'].notna()]\n",
    "\n",
    "allData.reset_index(inplace=True, drop=True)\n",
    "\n",
    "solarPvInd = []\n",
    "\n",
    "for i in list(allData.index):\n",
    "\n",
    "    checkStr = allData.loc[i, 'techType']\n",
    "    search = re.search('Solar PV|SOLAR PV', checkStr)\n",
    "    if search is not None:\n",
    "        solarPvInd.append(i)\n",
    "\n",
    "allData = allData.loc[solarPvInd]\n",
    "allData = allData[allData['appDate'] >= '2014-01-01']\n",
    "\n",
    "allData.reset_index(inplace=True, drop=True)"
   ]
  },
  {
   "cell_type": "code",
   "execution_count": 4,
   "metadata": {
    "tags": []
   },
   "outputs": [],
   "source": [
    "resData = allData[allData['sector'] == 'Residential']\n",
    "resData = resData[resData['installer'].notna()]\n",
    "resData.reset_index(inplace=True, drop=True)"
   ]
  },
  {
   "cell_type": "code",
   "execution_count": 11,
   "metadata": {
    "tags": []
   },
   "outputs": [],
   "source": [
    "tpData = resData[resData['thirdParty'].notna()]\n",
    "tpData.reset_index(inplace=True, drop=True)"
   ]
  },
  {
   "cell_type": "code",
   "execution_count": 12,
   "metadata": {},
   "outputs": [
    {
     "output_type": "execute_result",
     "data": {
      "text/plain": "(265210, 9)"
     },
     "metadata": {},
     "execution_count": 12
    }
   ],
   "source": [
    "tpData.shape"
   ]
  },
  {
   "cell_type": "code",
   "execution_count": 13,
   "metadata": {},
   "outputs": [
    {
     "output_type": "execute_result",
     "data": {
      "text/plain": "    techType  systemSizeDC  storageSize     appDate       sector  \\\n0   Solar PV         5.652          0.0  2015-06-15  Residential   \n1   Solar PV         7.404          0.0  2014-10-02  Residential   \n2   Solar PV         4.806          0.0  2014-11-06  Residential   \n3   Solar PV        10.700          0.0  2014-06-05  Residential   \n4   Solar PV         9.496          0.0  2014-07-29  Residential   \n5   Solar PV         6.318          0.0  2014-09-23  Residential   \n6   Solar PV         6.960          0.0  2014-11-03  Residential   \n7   Solar PV         9.808          0.0  2014-10-28  Residential   \n8   Solar PV         4.212          0.0  2015-10-13  Residential   \n9   Solar PV         4.860          0.0  2014-10-07  Residential   \n10  Solar PV         5.472          0.0  2014-11-07  Residential   \n11  Solar PV         7.948          0.0  2014-08-05  Residential   \n12  Solar PV         5.675          0.0  2014-11-07  Residential   \n13  Solar PV         5.250          0.0  2014-05-15  Residential   \n14  Solar PV         9.140          0.0  2014-08-14  Residential   \n15  Solar PV         7.360          0.0  2014-11-06  Residential   \n16  Solar PV         3.472          0.0  2014-06-30  Residential   \n17  Solar PV         5.148          0.0  2014-09-11  Residential   \n18  Solar PV         2.220          0.0  2014-06-09  Residential   \n19  Solar PV         3.420          0.0  2014-05-23  Residential   \n20  Solar PV         3.510          0.0  2014-08-05  Residential   \n21  Solar PV         4.788          0.0  2014-11-07  Residential   \n22  Solar PV         3.420          0.0  2014-11-05  Residential   \n23  Solar PV         3.420          0.0  2014-11-10  Residential   \n24  Solar PV         5.016          0.0  2014-11-10  Residential   \n25  Solar PV         5.520          0.0  2014-07-17  Residential   \n26  Solar PV         5.472          0.0  2014-05-23  Residential   \n27  Solar PV         5.472          0.0  2014-07-02  Residential   \n28  Solar PV         5.496          0.0  2014-08-01  Residential   \n29  Solar PV         4.788          0.0  2014-12-23  Residential   \n30  Solar PV         5.472          0.0  2014-11-13  Residential   \n31  Solar PV         5.016          0.0  2014-12-08  Residential   \n32  Solar PV         5.104          0.0  2014-12-23  Residential   \n33  Solar PV         3.420          0.0  2015-03-25  Residential   \n34  Solar PV         5.016          0.0  2014-12-05  Residential   \n35  Solar PV         5.016          0.0  2015-05-04  Residential   \n36  Solar PV         4.788          0.0  2014-12-24  Residential   \n37  Solar PV         4.944          0.0  2015-03-04  Residential   \n38  Solar PV         5.616          0.0  2015-04-28  Residential   \n39  Solar PV         4.914          0.0  2015-04-28  Residential   \n40  Solar PV         5.616          0.0  2015-04-28  Residential   \n41  Solar PV         5.616          0.0  2015-04-28  Residential   \n42  Solar PV         3.276          0.0  2015-04-28  Residential   \n43  Solar PV         4.914          0.0  2015-04-29  Residential   \n44  Solar PV         5.616          0.0  2015-05-06  Residential   \n45  Solar PV         2.736          0.0  2015-05-14  Residential   \n46  Solar PV         5.616          0.0  2015-05-19  Residential   \n47  Solar PV         3.744          0.0  2015-06-12  Residential   \n48  Solar PV         3.744          0.0  2015-06-12  Residential   \n49  Solar PV         4.914          0.0  2015-07-10  Residential   \n\n                                installer                   invMan  \\\n0                               SolarCity              SMA America   \n1   Real Goods Solar, Inc. dba RGS Energy           Enphase Energy   \n2                               SolarCity  Xantrex Technology Inc.   \n3                   SolarCity Corporation           PV Powered LLC   \n4                          Sungevity Inc.              SMA America   \n5                               Solarcity  Xantrex Technology Inc.   \n6                               SolarCity              SMA America   \n7            Vivint Solar Developer, LLC.           Enphase Energy   \n8                               SolarCity                Power-One   \n9                               SolarCity              SMA America   \n10                  SolarCity Corporation   SolarEdge Technologies   \n11                              SolarCity         Fronius USA, LLC   \n12                         Sungevity Inc.              SMA America   \n13                              SolarCity                Power-One   \n14                              SolarCity         Fronius USA, LLC   \n15                             All In One                Power-One   \n16                          Sungevity Inc                     Kaco   \n17                              SolarCity   SolarEdge Technologies   \n18                  SolarCity Corporation                  Xantrex   \n19    SolarCity Corporation - Amanda Tsai                Power-One   \n20    SolarCity Corporation - Amanda Tsai                Power-One   \n21          SolarCity Corporation - Julia                Power-One   \n22          SolarCity Corporation - Julia                Power-One   \n23     SolarCity Corporation - Shair Weir                Power-One   \n24     SolarCity Corporation - Shair Weir                Power-One   \n25    SolarCity Corporation - Amanda Tsai                Power-One   \n26    SolarCity Corporation - Amanda Tsai                Power-One   \n27    SolarCity Corporation - Amanda Tsai                Power-One   \n28    SolarCity Corporation - Amanda Tsai                Power-One   \n29        SolarCity Corporation - Tiffany                Power-One   \n30     SolarCity Corporation - Shair Weir                Power-One   \n31        SolarCity Corporation - Tiffany                Power-One   \n32        SolarCity Corporation - Tiffany                Power-One   \n33        SolarCity Corporation - Tiffany                      ABB   \n34        SolarCity Corporation - Tiffany                Power-One   \n35        SolarCity Corporation - Tiffany                      ABB   \n36        SolarCity Corporation - Tiffany                Power-One   \n37        SolarCity Corporation - Tiffany                      ABB   \n38        SolarCity Corporation - Tiffany                      ABB   \n39        SolarCity Corporation - Tiffany                      ABB   \n40        SolarCity Corporation - Tiffany                      ABB   \n41        SolarCity Corporation - Tiffany                      ABB   \n42        SolarCity Corporation - Tiffany                      ABB   \n43        SolarCity Corporation - Tiffany                      ABB   \n44        SolarCity Corporation - Tiffany                      ABB   \n45        SolarCity Corporation - Tiffany                Power-One   \n46        SolarCity Corporation - Tiffany                      ABB   \n47        SolarCity Corporation - Tiffany                      ABB   \n48        SolarCity Corporation - Tiffany                      ABB   \n49        SolarCity Corporation - Tiffany                      ABB   \n\n   thirdPartyBool                      thirdParty  \n0             Yes           SolarCity Corporation  \n1             Yes          Kilowatt Systems, LLC.  \n2             Yes           SolarCity Corporation  \n3             Yes           SolarCity Corporation  \n4             Yes                  Sungevity Inc.  \n5             Yes           SolarCity Corporation  \n6             Yes           SolarCity Corporation  \n7             Yes    Vivint Solar Developer, LLC.  \n8             Yes           SolarCity Corporation  \n9             Yes           SolarCity Corporation  \n10            Yes           SolarCity Corporation  \n11            Yes           SolarCity Corporation  \n12            Yes                   Sungevity Inc  \n13            Yes                       SolarCity  \n14            Yes           SolarCity Corporation  \n15            Yes  Integrys Residential Solar LLC  \n16            Yes                  Sungevity Inc.  \n17            Yes           SolarCity Corporation  \n18            Yes           SolarCity Corporation  \n19            Yes                       SolarCity  \n20            Yes                       SolarCity  \n21            Yes                       SolarCity  \n22            Yes                       SolarCity  \n23            Yes                       SolarCity  \n24            Yes                       SolarCity  \n25            Yes                       SolarCity  \n26            Yes                       SolarCity  \n27            Yes                       SolarCity  \n28            Yes                       SolarCity  \n29            Yes                       SolarCity  \n30            Yes                       SolarCity  \n31            Yes                       SolarCity  \n32            Yes                       SolarCity  \n33            Yes                       SolarCity  \n34            Yes                       SolarCity  \n35            Yes                       SolarCity  \n36            Yes                       SolarCity  \n37            Yes                       SolarCity  \n38            Yes                       SolarCity  \n39            Yes                       SolarCity  \n40            Yes                       SolarCity  \n41            Yes                       Solarcity  \n42            Yes                       SolarCity  \n43            Yes                       SolarCity  \n44            Yes                       SolarCity  \n45            Yes                       SolarCity  \n46            Yes                       SolarCity  \n47            Yes                       Solarcity  \n48            Yes                       SolarCity  \n49            Yes                       SolarCity  ",
      "text/html": "<div>\n<style scoped>\n    .dataframe tbody tr th:only-of-type {\n        vertical-align: middle;\n    }\n\n    .dataframe tbody tr th {\n        vertical-align: top;\n    }\n\n    .dataframe thead th {\n        text-align: right;\n    }\n</style>\n<table border=\"1\" class=\"dataframe\">\n  <thead>\n    <tr style=\"text-align: right;\">\n      <th></th>\n      <th>techType</th>\n      <th>systemSizeDC</th>\n      <th>storageSize</th>\n      <th>appDate</th>\n      <th>sector</th>\n      <th>installer</th>\n      <th>invMan</th>\n      <th>thirdPartyBool</th>\n      <th>thirdParty</th>\n    </tr>\n  </thead>\n  <tbody>\n    <tr>\n      <th>0</th>\n      <td>Solar PV</td>\n      <td>5.652</td>\n      <td>0.0</td>\n      <td>2015-06-15</td>\n      <td>Residential</td>\n      <td>SolarCity</td>\n      <td>SMA America</td>\n      <td>Yes</td>\n      <td>SolarCity Corporation</td>\n    </tr>\n    <tr>\n      <th>1</th>\n      <td>Solar PV</td>\n      <td>7.404</td>\n      <td>0.0</td>\n      <td>2014-10-02</td>\n      <td>Residential</td>\n      <td>Real Goods Solar, Inc. dba RGS Energy</td>\n      <td>Enphase Energy</td>\n      <td>Yes</td>\n      <td>Kilowatt Systems, LLC.</td>\n    </tr>\n    <tr>\n      <th>2</th>\n      <td>Solar PV</td>\n      <td>4.806</td>\n      <td>0.0</td>\n      <td>2014-11-06</td>\n      <td>Residential</td>\n      <td>SolarCity</td>\n      <td>Xantrex Technology Inc.</td>\n      <td>Yes</td>\n      <td>SolarCity Corporation</td>\n    </tr>\n    <tr>\n      <th>3</th>\n      <td>Solar PV</td>\n      <td>10.700</td>\n      <td>0.0</td>\n      <td>2014-06-05</td>\n      <td>Residential</td>\n      <td>SolarCity Corporation</td>\n      <td>PV Powered LLC</td>\n      <td>Yes</td>\n      <td>SolarCity Corporation</td>\n    </tr>\n    <tr>\n      <th>4</th>\n      <td>Solar PV</td>\n      <td>9.496</td>\n      <td>0.0</td>\n      <td>2014-07-29</td>\n      <td>Residential</td>\n      <td>Sungevity Inc.</td>\n      <td>SMA America</td>\n      <td>Yes</td>\n      <td>Sungevity Inc.</td>\n    </tr>\n    <tr>\n      <th>5</th>\n      <td>Solar PV</td>\n      <td>6.318</td>\n      <td>0.0</td>\n      <td>2014-09-23</td>\n      <td>Residential</td>\n      <td>Solarcity</td>\n      <td>Xantrex Technology Inc.</td>\n      <td>Yes</td>\n      <td>SolarCity Corporation</td>\n    </tr>\n    <tr>\n      <th>6</th>\n      <td>Solar PV</td>\n      <td>6.960</td>\n      <td>0.0</td>\n      <td>2014-11-03</td>\n      <td>Residential</td>\n      <td>SolarCity</td>\n      <td>SMA America</td>\n      <td>Yes</td>\n      <td>SolarCity Corporation</td>\n    </tr>\n    <tr>\n      <th>7</th>\n      <td>Solar PV</td>\n      <td>9.808</td>\n      <td>0.0</td>\n      <td>2014-10-28</td>\n      <td>Residential</td>\n      <td>Vivint Solar Developer, LLC.</td>\n      <td>Enphase Energy</td>\n      <td>Yes</td>\n      <td>Vivint Solar Developer, LLC.</td>\n    </tr>\n    <tr>\n      <th>8</th>\n      <td>Solar PV</td>\n      <td>4.212</td>\n      <td>0.0</td>\n      <td>2015-10-13</td>\n      <td>Residential</td>\n      <td>SolarCity</td>\n      <td>Power-One</td>\n      <td>Yes</td>\n      <td>SolarCity Corporation</td>\n    </tr>\n    <tr>\n      <th>9</th>\n      <td>Solar PV</td>\n      <td>4.860</td>\n      <td>0.0</td>\n      <td>2014-10-07</td>\n      <td>Residential</td>\n      <td>SolarCity</td>\n      <td>SMA America</td>\n      <td>Yes</td>\n      <td>SolarCity Corporation</td>\n    </tr>\n    <tr>\n      <th>10</th>\n      <td>Solar PV</td>\n      <td>5.472</td>\n      <td>0.0</td>\n      <td>2014-11-07</td>\n      <td>Residential</td>\n      <td>SolarCity Corporation</td>\n      <td>SolarEdge Technologies</td>\n      <td>Yes</td>\n      <td>SolarCity Corporation</td>\n    </tr>\n    <tr>\n      <th>11</th>\n      <td>Solar PV</td>\n      <td>7.948</td>\n      <td>0.0</td>\n      <td>2014-08-05</td>\n      <td>Residential</td>\n      <td>SolarCity</td>\n      <td>Fronius USA, LLC</td>\n      <td>Yes</td>\n      <td>SolarCity Corporation</td>\n    </tr>\n    <tr>\n      <th>12</th>\n      <td>Solar PV</td>\n      <td>5.675</td>\n      <td>0.0</td>\n      <td>2014-11-07</td>\n      <td>Residential</td>\n      <td>Sungevity Inc.</td>\n      <td>SMA America</td>\n      <td>Yes</td>\n      <td>Sungevity Inc</td>\n    </tr>\n    <tr>\n      <th>13</th>\n      <td>Solar PV</td>\n      <td>5.250</td>\n      <td>0.0</td>\n      <td>2014-05-15</td>\n      <td>Residential</td>\n      <td>SolarCity</td>\n      <td>Power-One</td>\n      <td>Yes</td>\n      <td>SolarCity</td>\n    </tr>\n    <tr>\n      <th>14</th>\n      <td>Solar PV</td>\n      <td>9.140</td>\n      <td>0.0</td>\n      <td>2014-08-14</td>\n      <td>Residential</td>\n      <td>SolarCity</td>\n      <td>Fronius USA, LLC</td>\n      <td>Yes</td>\n      <td>SolarCity Corporation</td>\n    </tr>\n    <tr>\n      <th>15</th>\n      <td>Solar PV</td>\n      <td>7.360</td>\n      <td>0.0</td>\n      <td>2014-11-06</td>\n      <td>Residential</td>\n      <td>All In One</td>\n      <td>Power-One</td>\n      <td>Yes</td>\n      <td>Integrys Residential Solar LLC</td>\n    </tr>\n    <tr>\n      <th>16</th>\n      <td>Solar PV</td>\n      <td>3.472</td>\n      <td>0.0</td>\n      <td>2014-06-30</td>\n      <td>Residential</td>\n      <td>Sungevity Inc</td>\n      <td>Kaco</td>\n      <td>Yes</td>\n      <td>Sungevity Inc.</td>\n    </tr>\n    <tr>\n      <th>17</th>\n      <td>Solar PV</td>\n      <td>5.148</td>\n      <td>0.0</td>\n      <td>2014-09-11</td>\n      <td>Residential</td>\n      <td>SolarCity</td>\n      <td>SolarEdge Technologies</td>\n      <td>Yes</td>\n      <td>SolarCity Corporation</td>\n    </tr>\n    <tr>\n      <th>18</th>\n      <td>Solar PV</td>\n      <td>2.220</td>\n      <td>0.0</td>\n      <td>2014-06-09</td>\n      <td>Residential</td>\n      <td>SolarCity Corporation</td>\n      <td>Xantrex</td>\n      <td>Yes</td>\n      <td>SolarCity Corporation</td>\n    </tr>\n    <tr>\n      <th>19</th>\n      <td>Solar PV</td>\n      <td>3.420</td>\n      <td>0.0</td>\n      <td>2014-05-23</td>\n      <td>Residential</td>\n      <td>SolarCity Corporation - Amanda Tsai</td>\n      <td>Power-One</td>\n      <td>Yes</td>\n      <td>SolarCity</td>\n    </tr>\n    <tr>\n      <th>20</th>\n      <td>Solar PV</td>\n      <td>3.510</td>\n      <td>0.0</td>\n      <td>2014-08-05</td>\n      <td>Residential</td>\n      <td>SolarCity Corporation - Amanda Tsai</td>\n      <td>Power-One</td>\n      <td>Yes</td>\n      <td>SolarCity</td>\n    </tr>\n    <tr>\n      <th>21</th>\n      <td>Solar PV</td>\n      <td>4.788</td>\n      <td>0.0</td>\n      <td>2014-11-07</td>\n      <td>Residential</td>\n      <td>SolarCity Corporation - Julia</td>\n      <td>Power-One</td>\n      <td>Yes</td>\n      <td>SolarCity</td>\n    </tr>\n    <tr>\n      <th>22</th>\n      <td>Solar PV</td>\n      <td>3.420</td>\n      <td>0.0</td>\n      <td>2014-11-05</td>\n      <td>Residential</td>\n      <td>SolarCity Corporation - Julia</td>\n      <td>Power-One</td>\n      <td>Yes</td>\n      <td>SolarCity</td>\n    </tr>\n    <tr>\n      <th>23</th>\n      <td>Solar PV</td>\n      <td>3.420</td>\n      <td>0.0</td>\n      <td>2014-11-10</td>\n      <td>Residential</td>\n      <td>SolarCity Corporation - Shair Weir</td>\n      <td>Power-One</td>\n      <td>Yes</td>\n      <td>SolarCity</td>\n    </tr>\n    <tr>\n      <th>24</th>\n      <td>Solar PV</td>\n      <td>5.016</td>\n      <td>0.0</td>\n      <td>2014-11-10</td>\n      <td>Residential</td>\n      <td>SolarCity Corporation - Shair Weir</td>\n      <td>Power-One</td>\n      <td>Yes</td>\n      <td>SolarCity</td>\n    </tr>\n    <tr>\n      <th>25</th>\n      <td>Solar PV</td>\n      <td>5.520</td>\n      <td>0.0</td>\n      <td>2014-07-17</td>\n      <td>Residential</td>\n      <td>SolarCity Corporation - Amanda Tsai</td>\n      <td>Power-One</td>\n      <td>Yes</td>\n      <td>SolarCity</td>\n    </tr>\n    <tr>\n      <th>26</th>\n      <td>Solar PV</td>\n      <td>5.472</td>\n      <td>0.0</td>\n      <td>2014-05-23</td>\n      <td>Residential</td>\n      <td>SolarCity Corporation - Amanda Tsai</td>\n      <td>Power-One</td>\n      <td>Yes</td>\n      <td>SolarCity</td>\n    </tr>\n    <tr>\n      <th>27</th>\n      <td>Solar PV</td>\n      <td>5.472</td>\n      <td>0.0</td>\n      <td>2014-07-02</td>\n      <td>Residential</td>\n      <td>SolarCity Corporation - Amanda Tsai</td>\n      <td>Power-One</td>\n      <td>Yes</td>\n      <td>SolarCity</td>\n    </tr>\n    <tr>\n      <th>28</th>\n      <td>Solar PV</td>\n      <td>5.496</td>\n      <td>0.0</td>\n      <td>2014-08-01</td>\n      <td>Residential</td>\n      <td>SolarCity Corporation - Amanda Tsai</td>\n      <td>Power-One</td>\n      <td>Yes</td>\n      <td>SolarCity</td>\n    </tr>\n    <tr>\n      <th>29</th>\n      <td>Solar PV</td>\n      <td>4.788</td>\n      <td>0.0</td>\n      <td>2014-12-23</td>\n      <td>Residential</td>\n      <td>SolarCity Corporation - Tiffany</td>\n      <td>Power-One</td>\n      <td>Yes</td>\n      <td>SolarCity</td>\n    </tr>\n    <tr>\n      <th>30</th>\n      <td>Solar PV</td>\n      <td>5.472</td>\n      <td>0.0</td>\n      <td>2014-11-13</td>\n      <td>Residential</td>\n      <td>SolarCity Corporation - Shair Weir</td>\n      <td>Power-One</td>\n      <td>Yes</td>\n      <td>SolarCity</td>\n    </tr>\n    <tr>\n      <th>31</th>\n      <td>Solar PV</td>\n      <td>5.016</td>\n      <td>0.0</td>\n      <td>2014-12-08</td>\n      <td>Residential</td>\n      <td>SolarCity Corporation - Tiffany</td>\n      <td>Power-One</td>\n      <td>Yes</td>\n      <td>SolarCity</td>\n    </tr>\n    <tr>\n      <th>32</th>\n      <td>Solar PV</td>\n      <td>5.104</td>\n      <td>0.0</td>\n      <td>2014-12-23</td>\n      <td>Residential</td>\n      <td>SolarCity Corporation - Tiffany</td>\n      <td>Power-One</td>\n      <td>Yes</td>\n      <td>SolarCity</td>\n    </tr>\n    <tr>\n      <th>33</th>\n      <td>Solar PV</td>\n      <td>3.420</td>\n      <td>0.0</td>\n      <td>2015-03-25</td>\n      <td>Residential</td>\n      <td>SolarCity Corporation - Tiffany</td>\n      <td>ABB</td>\n      <td>Yes</td>\n      <td>SolarCity</td>\n    </tr>\n    <tr>\n      <th>34</th>\n      <td>Solar PV</td>\n      <td>5.016</td>\n      <td>0.0</td>\n      <td>2014-12-05</td>\n      <td>Residential</td>\n      <td>SolarCity Corporation - Tiffany</td>\n      <td>Power-One</td>\n      <td>Yes</td>\n      <td>SolarCity</td>\n    </tr>\n    <tr>\n      <th>35</th>\n      <td>Solar PV</td>\n      <td>5.016</td>\n      <td>0.0</td>\n      <td>2015-05-04</td>\n      <td>Residential</td>\n      <td>SolarCity Corporation - Tiffany</td>\n      <td>ABB</td>\n      <td>Yes</td>\n      <td>SolarCity</td>\n    </tr>\n    <tr>\n      <th>36</th>\n      <td>Solar PV</td>\n      <td>4.788</td>\n      <td>0.0</td>\n      <td>2014-12-24</td>\n      <td>Residential</td>\n      <td>SolarCity Corporation - Tiffany</td>\n      <td>Power-One</td>\n      <td>Yes</td>\n      <td>SolarCity</td>\n    </tr>\n    <tr>\n      <th>37</th>\n      <td>Solar PV</td>\n      <td>4.944</td>\n      <td>0.0</td>\n      <td>2015-03-04</td>\n      <td>Residential</td>\n      <td>SolarCity Corporation - Tiffany</td>\n      <td>ABB</td>\n      <td>Yes</td>\n      <td>SolarCity</td>\n    </tr>\n    <tr>\n      <th>38</th>\n      <td>Solar PV</td>\n      <td>5.616</td>\n      <td>0.0</td>\n      <td>2015-04-28</td>\n      <td>Residential</td>\n      <td>SolarCity Corporation - Tiffany</td>\n      <td>ABB</td>\n      <td>Yes</td>\n      <td>SolarCity</td>\n    </tr>\n    <tr>\n      <th>39</th>\n      <td>Solar PV</td>\n      <td>4.914</td>\n      <td>0.0</td>\n      <td>2015-04-28</td>\n      <td>Residential</td>\n      <td>SolarCity Corporation - Tiffany</td>\n      <td>ABB</td>\n      <td>Yes</td>\n      <td>SolarCity</td>\n    </tr>\n    <tr>\n      <th>40</th>\n      <td>Solar PV</td>\n      <td>5.616</td>\n      <td>0.0</td>\n      <td>2015-04-28</td>\n      <td>Residential</td>\n      <td>SolarCity Corporation - Tiffany</td>\n      <td>ABB</td>\n      <td>Yes</td>\n      <td>SolarCity</td>\n    </tr>\n    <tr>\n      <th>41</th>\n      <td>Solar PV</td>\n      <td>5.616</td>\n      <td>0.0</td>\n      <td>2015-04-28</td>\n      <td>Residential</td>\n      <td>SolarCity Corporation - Tiffany</td>\n      <td>ABB</td>\n      <td>Yes</td>\n      <td>Solarcity</td>\n    </tr>\n    <tr>\n      <th>42</th>\n      <td>Solar PV</td>\n      <td>3.276</td>\n      <td>0.0</td>\n      <td>2015-04-28</td>\n      <td>Residential</td>\n      <td>SolarCity Corporation - Tiffany</td>\n      <td>ABB</td>\n      <td>Yes</td>\n      <td>SolarCity</td>\n    </tr>\n    <tr>\n      <th>43</th>\n      <td>Solar PV</td>\n      <td>4.914</td>\n      <td>0.0</td>\n      <td>2015-04-29</td>\n      <td>Residential</td>\n      <td>SolarCity Corporation - Tiffany</td>\n      <td>ABB</td>\n      <td>Yes</td>\n      <td>SolarCity</td>\n    </tr>\n    <tr>\n      <th>44</th>\n      <td>Solar PV</td>\n      <td>5.616</td>\n      <td>0.0</td>\n      <td>2015-05-06</td>\n      <td>Residential</td>\n      <td>SolarCity Corporation - Tiffany</td>\n      <td>ABB</td>\n      <td>Yes</td>\n      <td>SolarCity</td>\n    </tr>\n    <tr>\n      <th>45</th>\n      <td>Solar PV</td>\n      <td>2.736</td>\n      <td>0.0</td>\n      <td>2015-05-14</td>\n      <td>Residential</td>\n      <td>SolarCity Corporation - Tiffany</td>\n      <td>Power-One</td>\n      <td>Yes</td>\n      <td>SolarCity</td>\n    </tr>\n    <tr>\n      <th>46</th>\n      <td>Solar PV</td>\n      <td>5.616</td>\n      <td>0.0</td>\n      <td>2015-05-19</td>\n      <td>Residential</td>\n      <td>SolarCity Corporation - Tiffany</td>\n      <td>ABB</td>\n      <td>Yes</td>\n      <td>SolarCity</td>\n    </tr>\n    <tr>\n      <th>47</th>\n      <td>Solar PV</td>\n      <td>3.744</td>\n      <td>0.0</td>\n      <td>2015-06-12</td>\n      <td>Residential</td>\n      <td>SolarCity Corporation - Tiffany</td>\n      <td>ABB</td>\n      <td>Yes</td>\n      <td>Solarcity</td>\n    </tr>\n    <tr>\n      <th>48</th>\n      <td>Solar PV</td>\n      <td>3.744</td>\n      <td>0.0</td>\n      <td>2015-06-12</td>\n      <td>Residential</td>\n      <td>SolarCity Corporation - Tiffany</td>\n      <td>ABB</td>\n      <td>Yes</td>\n      <td>SolarCity</td>\n    </tr>\n    <tr>\n      <th>49</th>\n      <td>Solar PV</td>\n      <td>4.914</td>\n      <td>0.0</td>\n      <td>2015-07-10</td>\n      <td>Residential</td>\n      <td>SolarCity Corporation - Tiffany</td>\n      <td>ABB</td>\n      <td>Yes</td>\n      <td>SolarCity</td>\n    </tr>\n  </tbody>\n</table>\n</div>"
     },
     "metadata": {},
     "execution_count": 13
    }
   ],
   "source": [
    "tpData.head(50)"
   ]
  }
 ]
}