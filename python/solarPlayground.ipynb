{
 "metadata": {
  "language_info": {
   "codemirror_mode": {
    "name": "ipython",
    "version": 3
   },
   "file_extension": ".py",
   "mimetype": "text/x-python",
   "name": "python",
   "nbconvert_exporter": "python",
   "pygments_lexer": "ipython3",
   "version": "3.7.6-final"
  },
  "orig_nbformat": 2,
  "kernelspec": {
   "name": "Python 3.7.6 64-bit ('base': conda)",
   "display_name": "Python 3.7.6 64-bit ('base': conda)",
   "metadata": {
    "interpreter": {
     "hash": "e7ad3e331d89125a35e1aa51e4cbfadb7339476d992231fff57158d187b2117c"
    }
   }
  }
 },
 "nbformat": 4,
 "nbformat_minor": 2,
 "cells": [
  {
   "cell_type": "code",
   "execution_count": 1,
   "metadata": {},
   "outputs": [],
   "source": [
    "import pandas as pd\n",
    "import numpy as np\n",
    "import re\n",
    "from supportingFunctions import *\n",
    "import os\n",
    "import sys"
   ]
  },
  {
   "cell_type": "code",
   "execution_count": 2,
   "metadata": {},
   "outputs": [],
   "source": [
    "pgeRaw = pd.read_csv('./../data/PGE_Interconnected_Applications_Dataset_2020-06-30.csv')\n",
    "sceRaw = pd.read_csv('./../data/SCE_Interconnected_Applications_Dataset_2020-06-30.csv')\n",
    "sdgeRaw = pd.read_csv('./../data/SDGE_Interconnected_Applications_Dataset_2020-06-30.csv')"
   ]
  },
  {
   "cell_type": "code",
   "execution_count": 3,
   "metadata": {
    "tags": []
   },
   "outputs": [],
   "source": [
    "cols = ['Technology Type','System Size DC','Storage Size (kW AC)','App Approved Date','Customer Sector','Installer Name','Inverter Manufacturer 1','Third Party Owned','Third Party Name']\n",
    "colsShort = ['techType','systemSizeDC','storageSize','appDate','sector','installer','invMan','thirdPartyBool','thirdParty']\n",
    "\n",
    "allData = pd.concat([pgeRaw[cols], sceRaw[cols], sdgeRaw[cols]])\n",
    "\n",
    "allData.columns = colsShort\n",
    "\n",
    "allData = allData[allData['techType'].notna()]\n",
    "allData = allData[allData['invMan'].notna()]\n",
    "\n",
    "allData.reset_index(inplace=True, drop=True)\n",
    "\n",
    "solarPvInd = []\n",
    "\n",
    "for i in list(allData.index):\n",
    "\n",
    "    checkStr = allData.loc[i, 'techType']\n",
    "    search = re.search('Solar PV|SOLAR PV', checkStr)\n",
    "    if search is not None:\n",
    "        solarPvInd.append(i)\n",
    "\n",
    "allData = allData.loc[solarPvInd]\n",
    "allData = allData[allData['appDate'] >= '2014-01-01']\n",
    "\n",
    "allData.reset_index(inplace=True, drop=True)"
   ]
  },
  {
   "cell_type": "code",
   "execution_count": 4,
   "metadata": {},
   "outputs": [],
   "source": [
    "systemSizeMaster(allData, numMonths = 78)"
   ]
  },
  {
   "cell_type": "code",
   "execution_count": 11,
   "metadata": {},
   "outputs": [],
   "source": [
    "header = pd.MultiIndex.from_product([['solaredge','enphase','sma','fronius','sunpower','aps','delta','ginlong','other'],['residential', 'commercial', 'industrial']])"
   ]
  },
  {
   "cell_type": "code",
   "execution_count": 34,
   "metadata": {},
   "outputs": [
    {
     "output_type": "execute_result",
     "data": {
      "text/plain": "    solaredge                           enphase                        \\\n  residential commercial industrial residential commercial industrial   \n0           1        0.0        0.0         0.0        0.0        0.0   \n1           2        0.0        0.0         0.0        0.0        0.0   \n2           3        0.0        0.0         0.0        0.0        0.0   \n\n          sma                           fronius  ...        aps       delta  \\\n  residential commercial industrial residential  ... industrial residential   \n0         0.0        0.0        0.0         0.0  ...        0.0         0.0   \n1         0.0        0.0        0.0         0.0  ...        0.0         0.0   \n2         0.0        0.0        0.0         0.0  ...        0.0         0.0   \n\n                            ginlong                             other  \\\n  commercial industrial residential commercial industrial residential   \n0        0.0        0.0         0.0        0.0        0.0         0.0   \n1        0.0        0.0         0.0        0.0        0.0         0.0   \n2        0.0        0.0         0.0        0.0        0.0         0.0   \n\n                         \n  commercial industrial  \n0        0.0        0.0  \n1        0.0        0.0  \n2        0.0        0.0  \n\n[3 rows x 27 columns]",
      "text/html": "<div>\n<style scoped>\n    .dataframe tbody tr th:only-of-type {\n        vertical-align: middle;\n    }\n\n    .dataframe tbody tr th {\n        vertical-align: top;\n    }\n\n    .dataframe thead tr th {\n        text-align: left;\n    }\n</style>\n<table border=\"1\" class=\"dataframe\">\n  <thead>\n    <tr>\n      <th></th>\n      <th colspan=\"3\" halign=\"left\">solaredge</th>\n      <th colspan=\"3\" halign=\"left\">enphase</th>\n      <th colspan=\"3\" halign=\"left\">sma</th>\n      <th>fronius</th>\n      <th>...</th>\n      <th>aps</th>\n      <th colspan=\"3\" halign=\"left\">delta</th>\n      <th colspan=\"3\" halign=\"left\">ginlong</th>\n      <th colspan=\"3\" halign=\"left\">other</th>\n    </tr>\n    <tr>\n      <th></th>\n      <th>residential</th>\n      <th>commercial</th>\n      <th>industrial</th>\n      <th>residential</th>\n      <th>commercial</th>\n      <th>industrial</th>\n      <th>residential</th>\n      <th>commercial</th>\n      <th>industrial</th>\n      <th>residential</th>\n      <th>...</th>\n      <th>industrial</th>\n      <th>residential</th>\n      <th>commercial</th>\n      <th>industrial</th>\n      <th>residential</th>\n      <th>commercial</th>\n      <th>industrial</th>\n      <th>residential</th>\n      <th>commercial</th>\n      <th>industrial</th>\n    </tr>\n  </thead>\n  <tbody>\n    <tr>\n      <th>0</th>\n      <td>1</td>\n      <td>0.0</td>\n      <td>0.0</td>\n      <td>0.0</td>\n      <td>0.0</td>\n      <td>0.0</td>\n      <td>0.0</td>\n      <td>0.0</td>\n      <td>0.0</td>\n      <td>0.0</td>\n      <td>...</td>\n      <td>0.0</td>\n      <td>0.0</td>\n      <td>0.0</td>\n      <td>0.0</td>\n      <td>0.0</td>\n      <td>0.0</td>\n      <td>0.0</td>\n      <td>0.0</td>\n      <td>0.0</td>\n      <td>0.0</td>\n    </tr>\n    <tr>\n      <th>1</th>\n      <td>2</td>\n      <td>0.0</td>\n      <td>0.0</td>\n      <td>0.0</td>\n      <td>0.0</td>\n      <td>0.0</td>\n      <td>0.0</td>\n      <td>0.0</td>\n      <td>0.0</td>\n      <td>0.0</td>\n      <td>...</td>\n      <td>0.0</td>\n      <td>0.0</td>\n      <td>0.0</td>\n      <td>0.0</td>\n      <td>0.0</td>\n      <td>0.0</td>\n      <td>0.0</td>\n      <td>0.0</td>\n      <td>0.0</td>\n      <td>0.0</td>\n    </tr>\n    <tr>\n      <th>2</th>\n      <td>3</td>\n      <td>0.0</td>\n      <td>0.0</td>\n      <td>0.0</td>\n      <td>0.0</td>\n      <td>0.0</td>\n      <td>0.0</td>\n      <td>0.0</td>\n      <td>0.0</td>\n      <td>0.0</td>\n      <td>...</td>\n      <td>0.0</td>\n      <td>0.0</td>\n      <td>0.0</td>\n      <td>0.0</td>\n      <td>0.0</td>\n      <td>0.0</td>\n      <td>0.0</td>\n      <td>0.0</td>\n      <td>0.0</td>\n      <td>0.0</td>\n    </tr>\n  </tbody>\n</table>\n<p>3 rows × 27 columns</p>\n</div>"
     },
     "metadata": {},
     "execution_count": 34
    }
   ],
   "source": [
    "jack = pd.DataFrame(np.zeros([3,27]), columns=header)\n",
    "jack.iloc[:, 0] = [1,2,3]\n",
    "jack"
   ]
  },
  {
   "cell_type": "code",
   "execution_count": 20,
   "metadata": {},
   "outputs": [
    {
     "output_type": "execute_result",
     "data": {
      "text/plain": "array([[0., 0., 0.],\n       [0., 0., 0.],\n       [0., 0., 0.],\n       [0., 0., 0.],\n       [0., 0., 0.],\n       [0., 0., 0.],\n       [0., 0., 0.],\n       [0., 0., 0.],\n       [0., 0., 0.],\n       [0., 0., 0.],\n       [0., 0., 0.],\n       [0., 0., 0.],\n       [0., 0., 0.],\n       [0., 0., 0.],\n       [0., 0., 0.],\n       [0., 0., 0.],\n       [0., 0., 0.],\n       [0., 0., 0.],\n       [0., 0., 0.],\n       [0., 0., 0.],\n       [0., 0., 0.],\n       [0., 0., 0.],\n       [0., 0., 0.],\n       [0., 0., 0.],\n       [0., 0., 0.],\n       [0., 0., 0.],\n       [0., 0., 0.]])"
     },
     "metadata": {},
     "execution_count": 20
    }
   ],
   "source": [
    "np.zeros([27,3])"
   ]
  }
 ]
}